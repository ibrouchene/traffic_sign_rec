{
 "cells": [
  {
   "cell_type": "markdown",
   "metadata": {},
   "source": [
    "# Self-Driving Car Engineer Nanodegree\n",
    "\n",
    "## Deep Learning\n",
    "\n",
    "## Project: Build a Traffic Sign Recognition Classifier\n",
    "\n"
   ]
  },
  {
   "cell_type": "markdown",
   "metadata": {},
   "source": [
    "## Step 0: Load The Data"
   ]
  },
  {
   "cell_type": "code",
   "execution_count": 1,
   "metadata": {},
   "outputs": [],
   "source": [
    "# Load pickled data\n",
    "import pickle\n",
    "\n",
    "# TODO: Fill this in based on where you saved the training and testing data\n",
    "\n",
    "training_file = \"train.p\"\n",
    "validation_file= \"valid.p\"\n",
    "testing_file = \"test.p\"\n",
    "\n",
    "with open(training_file, mode='rb') as f:\n",
    "    train = pickle.load(f)\n",
    "with open(validation_file, mode='rb') as f:\n",
    "    valid = pickle.load(f)\n",
    "with open(testing_file, mode='rb') as f:\n",
    "    test = pickle.load(f)\n",
    "    \n",
    "X_train, y_train = train['features'], train['labels']\n",
    "X_valid, y_valid = valid['features'], valid['labels']\n",
    "X_test, y_test   = test['features'], test['labels']"
   ]
  },
  {
   "cell_type": "markdown",
   "metadata": {},
   "source": [
    "## Step 1: Dataset Summary & Exploration"
   ]
  },
  {
   "cell_type": "markdown",
   "metadata": {},
   "source": [
    "### Provide a Basic Summary of the Data"
   ]
  },
  {
   "cell_type": "code",
   "execution_count": 2,
   "metadata": {},
   "outputs": [
    {
     "name": "stdout",
     "output_type": "stream",
     "text": [
      "Number of training examples = 34799\n",
      "Number of testing examples = 12630\n",
      "Image data shape = (32, 32, 3)\n",
      "Number of classes = 43\n"
     ]
    }
   ],
   "source": [
    "### Replace each question mark with the appropriate value. \n",
    "### Use python, pandas or numpy methods rather than hard coding the results\n",
    "import numpy as np\n",
    "\n",
    "n_train = y_train.shape[0]\n",
    "\n",
    "n_validation = y_valid.shape[0]\n",
    "\n",
    "n_test = y_test.shape[0]\n",
    "\n",
    "image_shape = X_train[0].shape\n",
    "\n",
    "n_classes = np.unique(y_train).shape[0]\n",
    "\n",
    "print(\"Number of training examples =\", n_train)\n",
    "print(\"Number of testing examples =\", n_test)\n",
    "print(\"Image data shape =\", image_shape)\n",
    "print(\"Number of classes =\", n_classes)"
   ]
  },
  {
   "cell_type": "markdown",
   "metadata": {},
   "source": [
    "### Exploratory visualization of the dataset"
   ]
  },
  {
   "cell_type": "code",
   "execution_count": 3,
   "metadata": {},
   "outputs": [
    {
     "name": "stdout",
     "output_type": "stream",
     "text": [
      "Label: 2 | Index (in the training set) 32820\n"
     ]
    },
    {
     "data": {
      "image/png": "[encoded data removed]",
      "text/plain": [
       "<matplotlib.figure.Figure at 0x52bb518>"
      ]
     },
     "metadata": {},
     "output_type": "display_data"
    }
   ],
   "source": [
    "import random\n",
    "import numpy as np\n",
    "import matplotlib.pyplot as plt\n",
    "%matplotlib inline\n",
    "index = 0\n",
    "\n",
    "# Let's have a look at an example of 50kph speed limit sign\n",
    "while y_train[index] != 2:\n",
    "    index = random.randint(0, len(X_train))\n",
    "    image = X_train[index].squeeze()\n",
    "\n",
    "plt.figure(figsize=(1,1))\n",
    "plt.imshow(image)\n",
    "print(\"Label:\", y_train[index], \"| Index (in the training set)\", index)"
   ]
  },
  {
   "cell_type": "markdown",
   "metadata": {},
   "source": [
    "Let's visualize the distribution of each traffic sign in the 3 different data sets."
   ]
  },
  {
   "cell_type": "code",
   "execution_count": 4,
   "metadata": {},
   "outputs": [
    {
     "data": {
      "image/png": "[encoded data removed]",
      "text/plain": [
       "<matplotlib.figure.Figure at 0x794bdd8>"
      ]
     },
     "metadata": {},
     "output_type": "display_data"
    }
   ],
   "source": [
    "bins = range(n_classes)\n",
    "\n",
    "f, (ax1, ax2, ax3) = plt.subplots(1, 3, sharey=True, sharex=True)\n",
    "\n",
    "ax1.hist(y_train, bins, normed=True, ec='black')\n",
    "ax1.set_title('Training data set')\n",
    "\n",
    "ax2.hist(y_valid, bins, normed=True, ec='black')\n",
    "ax2.set_title('Validation data set')\n",
    "\n",
    "ax3.hist(y_test, bins, normed=True, ec='black')\n",
    "ax3.set_title('Evaluation data set')\n",
    "\n",
    "plt.show()"
   ]
  },
  {
   "cell_type": "markdown",
   "metadata": {},
   "source": [
    "We can see that some traffic signs are much more frequent than others (for instance the max speed 20 kph is 10 times less present than the very common 30 kph speed limit sign. I've never seen a 20kph max speed sign in 7 years in Germany ;-) ).\n",
    "\n",
    "However the data distribution is very similar accross all data sets (training, validation and evaluation).\n",
    "\n",
    "It would be interesting to see if the neural network performs better for the most frequently represented signs in the data set."
   ]
  },
  {
   "cell_type": "markdown",
   "metadata": {},
   "source": [
    "## Step 2: Model Architecture"
   ]
  },
  {
   "cell_type": "markdown",
   "metadata": {},
   "source": [
    "### Pre-process the Data Set"
   ]
  },
  {
   "cell_type": "code",
   "execution_count": 5,
   "metadata": {},
   "outputs": [],
   "source": [
    "import cv2\n",
    "\n",
    "def PreProcess(arr):\n",
    "    tmp = cv2.cvtColor(arr, cv2.COLOR_RGB2GRAY)\n",
    "    tmp = cv2.equalizeHist(tmp.astype(np.uint8))\n",
    "    out = np.zeros((32,32,1))\n",
    "    noise = np.random.normal(loc=0.0, scale= 5.0, size=(32,32))\n",
    "    tmp = tmp + noise\n",
    "    for i in range(tmp.shape[0]):\n",
    "        for j in range(tmp.shape[1]):\n",
    "            out[i][j][0] = (tmp[i][j]-128.0) / 128.0\n",
    "    return out"
   ]
  },
  {
   "cell_type": "code",
   "execution_count": 6,
   "metadata": {
    "scrolled": true
   },
   "outputs": [
    {
     "name": "stdout",
     "output_type": "stream",
     "text": [
      "0.00427661878529 0.576307994648\n"
     ]
    },
    {
     "data": {
      "image/png": "[encoded data removed]",
      "text/plain": [
       "<matplotlib.figure.Figure at 0x7c9e0b8>"
      ]
     },
     "metadata": {},
     "output_type": "display_data"
    }
   ],
   "source": [
    "# Preprocessing step: Let's convert the image to RGB, then normalize it \n",
    "import cv2\n",
    "\n",
    "# Let's start with an example\n",
    "original_image = X_train[120]#[32904]\n",
    "\n",
    "\n",
    "f, (ax1, ax2) = plt.subplots(1, 2, sharey=True, sharex=True)\n",
    "\n",
    "ax1.imshow(original_image)\n",
    "ax1.set_title('Original image')\n",
    "\n",
    "normalized = PreProcess(original_image)\n",
    "\n",
    "ax2.imshow(normalized.squeeze(), cmap='gray')\n",
    "ax2.set_title('Normalized image')\n",
    "\n",
    "# Let's have a look at the preprocessed image mean values\n",
    "print(np.mean(normalized.squeeze()), np.std(normalized.squeeze()))\n",
    "\n",
    "plt.show()\n"
   ]
  },
  {
   "cell_type": "markdown",
   "metadata": {},
   "source": [
    "### Model Architecture"
   ]
  },
  {
   "cell_type": "code",
   "execution_count": 7,
   "metadata": {},
   "outputs": [],
   "source": [
    "# Let's start with the LaNet architecture\n",
    "import tensorflow as tf\n",
    "from sklearn.utils import shuffle\n",
    "\n",
    "EPOCHS = 50\n",
    "BATCH_SIZE = 128"
   ]
  },
  {
   "cell_type": "code",
   "execution_count": 8,
   "metadata": {},
   "outputs": [],
   "source": [
    "from tensorflow.contrib.layers import flatten\n",
    "\n",
    "def LeNet(x):    \n",
    "    # Hyperparameters\n",
    "    mu = 0\n",
    "    sigma = 0.1\n",
    "    \n",
    "    ## First Layer\n",
    "    # Convolution, Input = 32x32x1, Output = 28x28x6.\n",
    "    conv1_W = tf.Variable(tf.truncated_normal(shape=(5, 5, 1, 6), mean = mu, stddev = sigma))\n",
    "    conv1_b = tf.Variable(tf.zeros(6))\n",
    "    conv1   = tf.nn.conv2d(x, conv1_W, strides=[1, 1, 1, 1], padding='VALID') + conv1_b\n",
    "\n",
    "    # Activation\n",
    "    conv1 = tf.nn.relu(conv1)\n",
    "    \n",
    "    # Max pooling, Input = 28x28x6, Output = 14x14x6.\n",
    "    conv1 = tf.nn.max_pool(conv1, ksize=[1, 2, 2, 1], strides=[1, 2, 2, 1], padding='VALID')\n",
    "\n",
    "    # Dropout to prevent overfitting\n",
    "    conv1 = tf.nn.dropout(conv1, keep_prob)\n",
    "    \n",
    "    ## Second layer\n",
    "    # Convolution, Output = 10x10x16.\n",
    "    conv2_W = tf.Variable(tf.truncated_normal(shape=(5, 5, 6, 16), mean = mu, stddev = sigma))\n",
    "    conv2_b = tf.Variable(tf.zeros(16))\n",
    "    conv2   = tf.nn.conv2d(conv1, conv2_W, strides=[1, 1, 1, 1], padding='VALID') + conv2_b\n",
    "\n",
    "    # Activation.\n",
    "    conv2 = tf.nn.relu(conv2)\n",
    "    \n",
    "    # Max pooling, Input = 10x10x16, Output = 5x5x16.\n",
    "    conv2 = tf.nn.max_pool(conv2, ksize=[1, 2, 2, 1], strides=[1, 2, 2, 1], padding='VALID')\n",
    "    \n",
    "    # Flatten, Input = 5x5x16, Output = 400.\n",
    "    fc0   = flatten(conv2)\n",
    "\n",
    "    # Dropout to prevent overfitting\n",
    "    fc0 = tf.nn.dropout(fc0, keep_prob)\n",
    "    \n",
    "    ## Third layer\n",
    "    # Fully connected, Input = 400, Output = 120.\n",
    "    fc1_W = tf.Variable(tf.truncated_normal(shape=(400, 120), mean = mu, stddev = sigma))\n",
    "    fc1_b = tf.Variable(tf.zeros(120))\n",
    "    fc1   = tf.matmul(fc0, fc1_W) + fc1_b\n",
    "\n",
    "    # Activation\n",
    "    fc1    = tf.nn.relu(fc1)\n",
    "    fc1    = tf.nn.dropout(fc1, keep_prob)\n",
    "    \n",
    "    ## Fourth layer\n",
    "    # Fully connected, Input = 120, Output = 84.\n",
    "    fc2_W  = tf.Variable(tf.truncated_normal(shape=(120, 84), mean = mu, stddev = sigma))\n",
    "    fc2_b  = tf.Variable(tf.zeros(84))\n",
    "    fc2    = tf.matmul(fc1, fc2_W) + fc2_b\n",
    "\n",
    "    # Activation\n",
    "    fc2    = tf.nn.relu(fc2)\n",
    "    \n",
    "    # Dropout to prevent overfitting\n",
    "    fc2    = tf.nn.dropout(fc2, keep_prob)\n",
    "    \n",
    "    ## Fifth layer\n",
    "    # Fully connected, Input = 84, Output = 43.\n",
    "    fc3_W  = tf.Variable(tf.truncated_normal(shape=(84, n_classes), mean = mu, stddev = sigma))\n",
    "    fc3_b  = tf.Variable(tf.zeros(n_classes))\n",
    "    logits = tf.matmul(fc2, fc3_W) + fc3_b\n",
    "\n",
    "    return logits"
   ]
  },
  {
   "cell_type": "markdown",
   "metadata": {},
   "source": [
    "### Train, Validate and Test the Model"
   ]
  },
  {
   "cell_type": "code",
   "execution_count": 9,
   "metadata": {},
   "outputs": [],
   "source": [
    "x = tf.placeholder(tf.float32, (None, 32, 32, 1))\n",
    "y = tf.placeholder(tf.int32, (None))\n",
    "one_hot_y = tf.one_hot(y, n_classes)\n",
    "# Drop out\n",
    "keep_prob = tf.placeholder(tf.float32)"
   ]
  },
  {
   "cell_type": "code",
   "execution_count": 10,
   "metadata": {},
   "outputs": [],
   "source": [
    "rate = 0.00025\n",
    "\n",
    "logits = LeNet(x)\n",
    "cross_entropy = tf.nn.softmax_cross_entropy_with_logits(labels=one_hot_y, logits=logits)\n",
    "loss_operation = tf.reduce_mean(cross_entropy)\n",
    "optimizer = tf.train.AdamOptimizer(learning_rate = rate)\n",
    "training_operation = optimizer.minimize(loss_operation)\n"
   ]
  },
  {
   "cell_type": "code",
   "execution_count": 11,
   "metadata": {},
   "outputs": [],
   "source": [
    "correct_prediction = tf.equal(tf.argmax(logits, 1), tf.argmax(one_hot_y, 1))\n",
    "accuracy_operation = tf.reduce_mean(tf.cast(correct_prediction, tf.float32))\n",
    "saver = tf.train.Saver()\n",
    "\n",
    "def evaluate(X_data, y_data):\n",
    "    num_examples = len(X_data)\n",
    "    total_accuracy = 0\n",
    "    sess = tf.get_default_session()\n",
    "    for offset in range(0, num_examples, BATCH_SIZE):\n",
    "        batch_x, batch_y = X_data[offset:offset+BATCH_SIZE], y_data[offset:offset+BATCH_SIZE]\n",
    "        # Preprocess batch\n",
    "        batch_x_pp = np.zeros((batch_x.shape[0], 32, 32, 1))\n",
    "        for i in range(batch_x.shape[0]):\n",
    "            batch_x_pp[i] = PreProcess(batch_x[i])\n",
    "        accuracy = sess.run(accuracy_operation, feed_dict={x: batch_x_pp, y: batch_y, keep_prob: 1.0})\n",
    "        total_accuracy += (accuracy * len(batch_x))\n",
    "    return total_accuracy / num_examples"
   ]
  },
  {
   "cell_type": "markdown",
   "metadata": {},
   "source": [
    "Training the model"
   ]
  },
  {
   "cell_type": "code",
   "execution_count": 12,
   "metadata": {
    "scrolled": true
   },
   "outputs": [
    {
     "name": "stdout",
     "output_type": "stream",
     "text": [
      "Training...\n",
      "\n",
      "EPOCH 1 ...\n",
      "Validation Accuracy = 0.306\n",
      "\n",
      "EPOCH 2 ...\n",
      "Validation Accuracy = 0.516\n",
      "\n",
      "EPOCH 3 ...\n",
      "Validation Accuracy = 0.636\n",
      "\n",
      "EPOCH 4 ...\n",
      "Validation Accuracy = 0.727\n",
      "\n",
      "EPOCH 5 ...\n",
      "Validation Accuracy = 0.763\n",
      "\n",
      "EPOCH 6 ...\n",
      "Validation Accuracy = 0.779\n",
      "\n",
      "EPOCH 7 ...\n",
      "Validation Accuracy = 0.811\n",
      "\n",
      "EPOCH 8 ...\n",
      "Validation Accuracy = 0.834\n",
      "\n",
      "EPOCH 9 ...\n",
      "Validation Accuracy = 0.840\n",
      "\n",
      "EPOCH 10 ...\n",
      "Validation Accuracy = 0.851\n",
      "\n",
      "EPOCH 11 ...\n",
      "Validation Accuracy = 0.859\n",
      "\n",
      "EPOCH 12 ...\n",
      "Validation Accuracy = 0.868\n",
      "\n",
      "EPOCH 13 ...\n",
      "Validation Accuracy = 0.880\n",
      "\n",
      "EPOCH 14 ...\n",
      "Validation Accuracy = 0.883\n",
      "\n",
      "EPOCH 15 ...\n",
      "Validation Accuracy = 0.891\n",
      "\n",
      "EPOCH 16 ...\n",
      "Validation Accuracy = 0.893\n",
      "\n",
      "EPOCH 17 ...\n",
      "Validation Accuracy = 0.898\n",
      "\n",
      "EPOCH 18 ...\n",
      "Validation Accuracy = 0.895\n",
      "\n",
      "EPOCH 19 ...\n",
      "Validation Accuracy = 0.904\n",
      "\n",
      "EPOCH 20 ...\n",
      "Validation Accuracy = 0.902\n",
      "\n",
      "EPOCH 21 ...\n",
      "Validation Accuracy = 0.905\n",
      "\n",
      "EPOCH 22 ...\n",
      "Validation Accuracy = 0.909\n",
      "\n",
      "EPOCH 23 ...\n",
      "Validation Accuracy = 0.918\n",
      "\n",
      "EPOCH 24 ...\n",
      "Validation Accuracy = 0.919\n",
      "\n",
      "EPOCH 25 ...\n",
      "Validation Accuracy = 0.918\n",
      "\n",
      "EPOCH 26 ...\n",
      "Validation Accuracy = 0.919\n",
      "\n",
      "EPOCH 27 ...\n",
      "Validation Accuracy = 0.924\n",
      "\n",
      "EPOCH 28 ...\n",
      "Validation Accuracy = 0.923\n",
      "\n",
      "EPOCH 29 ...\n",
      "Validation Accuracy = 0.924\n",
      "\n",
      "EPOCH 30 ...\n",
      "Validation Accuracy = 0.927\n",
      "\n",
      "EPOCH 31 ...\n",
      "Validation Accuracy = 0.928\n",
      "\n",
      "EPOCH 32 ...\n",
      "Validation Accuracy = 0.928\n",
      "\n",
      "EPOCH 33 ...\n",
      "Validation Accuracy = 0.931\n",
      "\n",
      "EPOCH 34 ...\n",
      "Validation Accuracy = 0.932\n",
      "\n",
      "EPOCH 35 ...\n",
      "Validation Accuracy = 0.932\n",
      "\n",
      "EPOCH 36 ...\n",
      "Validation Accuracy = 0.935\n",
      "\n",
      "EPOCH 37 ...\n",
      "Validation Accuracy = 0.934\n",
      "\n",
      "EPOCH 38 ...\n",
      "Validation Accuracy = 0.934\n",
      "\n",
      "EPOCH 39 ...\n",
      "Validation Accuracy = 0.935\n",
      "\n",
      "EPOCH 40 ...\n",
      "Validation Accuracy = 0.935\n",
      "\n",
      "EPOCH 41 ...\n",
      "Validation Accuracy = 0.936\n",
      "\n",
      "EPOCH 42 ...\n",
      "Validation Accuracy = 0.942\n",
      "\n",
      "EPOCH 43 ...\n",
      "Validation Accuracy = 0.943\n",
      "\n",
      "EPOCH 44 ...\n",
      "Validation Accuracy = 0.940\n",
      "\n",
      "EPOCH 45 ...\n",
      "Validation Accuracy = 0.941\n",
      "\n",
      "EPOCH 46 ...\n",
      "Validation Accuracy = 0.942\n",
      "\n",
      "EPOCH 47 ...\n",
      "Validation Accuracy = 0.945\n",
      "\n",
      "EPOCH 48 ...\n",
      "Validation Accuracy = 0.946\n",
      "\n",
      "EPOCH 49 ...\n",
      "Validation Accuracy = 0.947\n",
      "\n",
      "EPOCH 50 ...\n",
      "Validation Accuracy = 0.943\n",
      "\n",
      "Model saved\n"
     ]
    }
   ],
   "source": [
    "with tf.Session() as sess:\n",
    "    sess.run(tf.global_variables_initializer())\n",
    "    num_examples = len(X_train)\n",
    "    \n",
    "    print(\"Training...\")\n",
    "    print()\n",
    "    acc = []\n",
    "    for i in range(EPOCHS):\n",
    "        X_train, y_train = shuffle(X_train, y_train)\n",
    "        for offset in range(0, num_examples, BATCH_SIZE):\n",
    "            end = offset + BATCH_SIZE\n",
    "            batch_x, batch_y = X_train[offset:end], y_train[offset:end]\n",
    "            # Preprocess batch\n",
    "            batch_x_pp = np.zeros((batch_x.shape[0], 32, 32, 1))\n",
    "            for j in range(batch_x.shape[0]):\n",
    "                batch_x_pp[j] = PreProcess(batch_x[j])\n",
    "            sess.run(training_operation, feed_dict={x: batch_x_pp, y: batch_y, keep_prob: 0.7})\n",
    "            \n",
    "        validation_accuracy = evaluate(X_valid, y_valid)\n",
    "        print(\"EPOCH {} ...\".format(i+1))\n",
    "        print(\"Validation Accuracy = {:.3f}\".format(validation_accuracy))\n",
    "        acc.append(validation_accuracy)\n",
    "        print()\n",
    "        \n",
    "    saver.save(sess, './finalModel')\n",
    "    print(\"Model saved\")"
   ]
  },
  {
   "cell_type": "markdown",
   "metadata": {},
   "source": [
    "Validation accuracy is above the required threshold. One could spend more time trying different architectures and/or preprocessing techniques, but let's see how the current network performs on new images."
   ]
  },
  {
   "cell_type": "markdown",
   "metadata": {},
   "source": [
    "## Step 3: Test a Model on New Images"
   ]
  },
  {
   "cell_type": "markdown",
   "metadata": {},
   "source": [
    "I have downloaded images of German road signs from real images (for instance using google street view). The included signals are:\n",
    "- 30 kph speed limit\n",
    "- 50 kph speed limit\n",
    "- Yield sign\n",
    "- Slippery road\n",
    "- Turn right only"
   ]
  },
  {
   "cell_type": "code",
   "execution_count": 13,
   "metadata": {
    "scrolled": true
   },
   "outputs": [
    {
     "data": {
      "image/png": "[encoded data removed]",
      "text/plain": [
       "<matplotlib.figure.Figure at 0x7791cc0>"
      ]
     },
     "metadata": {},
     "output_type": "display_data"
    }
   ],
   "source": [
    "import os\n",
    "import cv2\n",
    "import matplotlib.pyplot as plt\n",
    "%matplotlib inline\n",
    "# Load images\n",
    "NEW_IMAGES  = r\".\\new_images\"\n",
    "ThirtyLimit = os.path.join(NEW_IMAGES, \"30.jpg\")\n",
    "FiftyLimit  = os.path.join(NEW_IMAGES, \"50.jpg\")\n",
    "Yield       = os.path.join(NEW_IMAGES, \"yield.jpg\")\n",
    "Sliperry    = os.path.join(NEW_IMAGES, \"slippery.jpg\")\n",
    "TurnRight   = os.path.join(NEW_IMAGES, \"turnright.jpg\")\n",
    "\n",
    "\n",
    "# Let's have a look at the images after preprocessing\n",
    "\n",
    "fig = plt.figure()\n",
    "\n",
    "plt.subplot(151)\n",
    "thirty = plt.imread(ThirtyLimit)[:,:,:3]\n",
    "plt.imshow(PreProcess(thirty)[:,:,0], cmap='gray')\n",
    "\n",
    "plt.subplot(152)\n",
    "fifty = plt.imread(FiftyLimit)[:,:,:3]\n",
    "plt.imshow(PreProcess(fifty)[:,:,0], cmap='gray')\n",
    "\n",
    "plt.subplot(153)\n",
    "yield_ = plt.imread(Yield)[:,:,:3]\n",
    "plt.imshow(PreProcess(yield_)[:,:,0], cmap='gray')\n",
    "\n",
    "plt.subplot(154)\n",
    "slip = plt.imread(Sliperry)[:,:,:3]\n",
    "plt.imshow(PreProcess(slip)[:,:,0], cmap='gray')\n",
    "\n",
    "plt.subplot(155)\n",
    "right = plt.imread(TurnRight)[:,:,:3]\n",
    "plt.imshow(PreProcess(right)[:,:,0], cmap='gray')\n",
    "\n",
    "plt.show()\n",
    "\n",
    "\n"
   ]
  },
  {
   "cell_type": "markdown",
   "metadata": {},
   "source": [
    "### Predict the Sign Type for Each Image"
   ]
  },
  {
   "cell_type": "code",
   "execution_count": 14,
   "metadata": {
    "scrolled": true
   },
   "outputs": [
    {
     "name": "stdout",
     "output_type": "stream",
     "text": [
      "[ 1  2 13 23 33]\n"
     ]
    }
   ],
   "source": [
    "# Feeder for all new images at once\n",
    "feeder = np.zeros((5,32,32,1))\n",
    "ground_truth = [1, 2, 13, 23, 33] # Ground truth, based on the signames.csv file\n",
    "with tf.Session() as sess:    \n",
    "    sess.run(tf.global_variables_initializer())\n",
    "    saver = tf.train.import_meta_graph('finalModel.meta')\n",
    "    saver.restore(sess,tf.train.latest_checkpoint('./'))\n",
    "    # Set up the feeder\n",
    "    feeder[0] = PreProcess(thirty)\n",
    "    feeder[1] = PreProcess(fifty)\n",
    "    feeder[2] = PreProcess(yield_)\n",
    "    feeder[3] = PreProcess(slip)\n",
    "    feeder[4] = PreProcess(right)\n",
    "    \n",
    "    classifier_output = sess.run(tf.argmax(logits, 1), feed_dict={x:feeder, keep_prob:1.0})\n",
    "    \n",
    "    print(classifier_output)\n",
    "    \n"
   ]
  },
  {
   "cell_type": "markdown",
   "metadata": {},
   "source": [
    "### Analyze Performance"
   ]
  },
  {
   "cell_type": "code",
   "execution_count": 15,
   "metadata": {},
   "outputs": [
    {
     "name": "stdout",
     "output_type": "stream",
     "text": [
      "Accuracy on the new images from the web = 100.0 %\n"
     ]
    }
   ],
   "source": [
    "# Let's compare the output of the classifier on the new images with the labels\n",
    "correct_pred = sum([1 for a,b in zip(ground_truth, classifier_output ) if a==b])\n",
    "\n",
    "accuracy = float(100.0*correct_pred) / len(classifier_output)\n",
    "\n",
    "print(\"Accuracy on the new images from the web = {:.1f} %\".format(accuracy))"
   ]
  },
  {
   "cell_type": "markdown",
   "metadata": {},
   "source": [
    "### Output Top 5 Softmax Probabilities For Each Image Found on the Web"
   ]
  },
  {
   "cell_type": "code",
   "execution_count": 16,
   "metadata": {},
   "outputs": [
    {
     "name": "stdout",
     "output_type": "stream",
     "text": [
      "30kph\n",
      "1 with probability 0.94\n",
      "2 with probability 0.05\n",
      "0 with probability 0.00\n",
      "5 with probability 0.00\n",
      "6 with probability 0.00\n",
      "\n",
      "50kph\n",
      "2 with probability 0.71\n",
      "5 with probability 0.23\n",
      "1 with probability 0.03\n",
      "3 with probability 0.02\n",
      "4 with probability 0.00\n",
      "\n",
      "Yield\n",
      "13 with probability 1.00\n",
      "35 with probability 0.00\n",
      "38 with probability 0.00\n",
      "3 with probability 0.00\n",
      "12 with probability 0.00\n",
      "\n",
      "Slippery\n",
      "23 with probability 0.88\n",
      "19 with probability 0.10\n",
      "31 with probability 0.01\n",
      "21 with probability 0.01\n",
      "30 with probability 0.00\n",
      "\n",
      "Right Only\n",
      "33 with probability 1.00\n",
      "39 with probability 0.00\n",
      "37 with probability 0.00\n",
      "35 with probability 0.00\n",
      "11 with probability 0.00\n",
      "\n"
     ]
    }
   ],
   "source": [
    "### Print out the top five softmax probabilities for the predictions on the German traffic sign images found on the web. \n",
    "feeder = np.zeros((5,32,32,1))\n",
    "titles = [\"30kph\", \"50kph\", \"Yield\", \"Slippery\", \"Right Only\"]\n",
    "with tf.Session() as sess:    \n",
    "    sess.run(tf.global_variables_initializer())\n",
    "    saver = tf.train.import_meta_graph('finalModel.meta')\n",
    "    saver.restore(sess,tf.train.latest_checkpoint('./'))\n",
    "    # Set up the feeder\n",
    "    feeder[0] = PreProcess(thirty)\n",
    "    feeder[1] = PreProcess(fifty)\n",
    "    feeder[2] = PreProcess(yield_)\n",
    "    feeder[3] = PreProcess(slip)\n",
    "    feeder[4] = PreProcess(right)\n",
    "    \n",
    "    out = sess.run(logits, feed_dict={x:feeder, keep_prob:1.0})\n",
    "    \n",
    "    for image, title in zip(out, titles):\n",
    "        print(title)\n",
    "        output = sess.run(tf.nn.top_k(tf.nn.softmax(image), 5))\n",
    "        probs = output[0]\n",
    "        label = output[1]\n",
    "        for l,p in zip(label, probs):\n",
    "            print(l, \"with probability %.2f\" % p)\n",
    "        print()"
   ]
  },
  {
   "cell_type": "markdown",
   "metadata": {},
   "source": [
    "### Figure out accuracy on the test catalogue"
   ]
  },
  {
   "cell_type": "code",
   "execution_count": 17,
   "metadata": {},
   "outputs": [
    {
     "name": "stdout",
     "output_type": "stream",
     "text": [
      "Accuracy on the test catalogue = 0.919\n"
     ]
    }
   ],
   "source": [
    "with tf.Session() as sess:    \n",
    "    sess.run(tf.global_variables_initializer())\n",
    "    saver = tf.train.import_meta_graph('finalModel.meta')\n",
    "    saver.restore(sess,tf.train.latest_checkpoint('./'))\n",
    "    test_accuracy = evaluate(X_test, y_test)\n",
    "    print(\"Accuracy on the test catalogue = {:.3f}\".format(test_accuracy))"
   ]
  },
  {
   "cell_type": "code",
   "execution_count": null,
   "metadata": {},
   "outputs": [],
   "source": []
  }
 ],
 "metadata": {
  "anaconda-cloud": {},
  "kernelspec": {
   "display_name": "Python 3",
   "language": "python",
   "name": "python3"
  },
  "language_info": {
   "codemirror_mode": {
    "name": "ipython",
    "version": 3
   },
   "file_extension": ".py",
   "mimetype": "text/x-python",
   "name": "python",
   "nbconvert_exporter": "python",
   "pygments_lexer": "ipython3",
   "version": "3.5.2"
  },
  "widgets": {
   "state": {},
   "version": "1.1.2"
  }
 },
 "nbformat": 4,
 "nbformat_minor": 1
}
